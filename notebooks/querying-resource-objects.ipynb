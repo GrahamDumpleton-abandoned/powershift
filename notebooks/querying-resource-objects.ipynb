{
 "cells": [
  {
   "cell_type": "markdown",
   "metadata": {},
   "source": [
    "# Python Version"
   ]
  },
  {
   "cell_type": "markdown",
   "metadata": {},
   "source": [
    "The ``powershift`` package requires Python 3. If running this notebook using Python 2, switch the running notebook kernel to Python 3."
   ]
  },
  {
   "cell_type": "markdown",
   "metadata": {},
   "source": [
    "# Client Initialisation"
   ]
  },
  {
   "cell_type": "code",
   "execution_count": 1,
   "metadata": {
    "collapsed": false
   },
   "outputs": [],
   "source": [
    "import powershift.endpoints as endpoints"
   ]
  },
  {
   "cell_type": "markdown",
   "metadata": {},
   "source": [
    "If the ``host`` is not specified (left as the default value ``None``), then it is assumed that the client is being used from inside of a pod running in an OpenShift cluster. In this case the ``host`` will be automatically set to ``openshift.default.svc.cluster.local`` and the ``token`` will be read from the file in the container at ``/var/run/secrets/kubernetes.io/serviceaccount/token``. Certificate verification will be performed if a ``host`` has been specified and disabled when determined that the client is being used from inside of a pod.\n",
    "\n",
    "When the client is being used inside of a pod, it is necessary to add the service account for the project to the appropriate role to be able to use the REST API. To add the service account to the ``view`` role, to allow it to read details via the REST API, but not edit anything, use:\n",
    "\n",
    "```\n",
    "oc adm policy add-role-to-group view system:serviceaccounts:myproject\n",
    "```\n",
    "\n",
    "Change ``myproject`` to be the actual project name the pod is running in. The service account will only be able to view details related to the current project.\n",
    "\n",
    "If you need to see all details related to projects that a user can work with, you need to supply a ``token`` for the user. Such a token can be obtained by running:\n",
    "\n",
    "```\n",
    "oc whoami --token\n",
    "```\n",
    "\n",
    "You may want to ensure that it obtain a new token so that it has the maximum lifetime, as user tokens will expire."
   ]
  },
  {
   "cell_type": "code",
   "execution_count": 2,
   "metadata": {
    "collapsed": true
   },
   "outputs": [],
   "source": [
    "host = None\n",
    "token = None\n",
    "verify = None"
   ]
  },
  {
   "cell_type": "markdown",
   "metadata": {},
   "source": [
    "The ``requests`` library will complain on every request where a untrusted certificate is used even when told not to perform certificate validation. This would be the case for when the OpenShift cluster is setup using self signed certificates, as well as when using the client from inside of a pod. Disable the warnings so it isn't so noisy."
   ]
  },
  {
   "cell_type": "code",
   "execution_count": 3,
   "metadata": {
    "collapsed": false
   },
   "outputs": [],
   "source": [
    "import requests.packages.urllib3\n",
    "\n",
    "if not host and not verify:\n",
    "    requests.packages.urllib3.disable_warnings()"
   ]
  },
  {
   "cell_type": "markdown",
   "metadata": {},
   "source": [
    "Create the actual client."
   ]
  },
  {
   "cell_type": "code",
   "execution_count": 4,
   "metadata": {
    "collapsed": false
   },
   "outputs": [],
   "source": [
    "client = endpoints.Client(host=host, token=token, verify=verify)"
   ]
  },
  {
   "cell_type": "markdown",
   "metadata": {},
   "source": [
    "# Listing All Projects"
   ]
  },
  {
   "cell_type": "code",
   "execution_count": 5,
   "metadata": {
    "collapsed": false
   },
   "outputs": [],
   "source": [
    "from ipy_table import *"
   ]
  },
  {
   "cell_type": "code",
   "execution_count": 6,
   "metadata": {
    "collapsed": true
   },
   "outputs": [],
   "source": [
    "projects = client.oapi.v1.projects.get()"
   ]
  },
  {
   "cell_type": "code",
   "execution_count": 7,
   "metadata": {
    "collapsed": false
   },
   "outputs": [
    {
     "data": {
      "text/html": [
       "<table border=\"1\" cellpadding=\"3\" cellspacing=\"0\"  style=\"border:1px solid black;border-collapse:collapse;\"><tr><td  style=\"background-color:LightGray;\"><b>Project</b></td><td  style=\"background-color:LightGray;\"><b>Display&nbspName</b></td><td  style=\"background-color:LightGray;\"><b>Description</b></td></tr><tr><td  style=\"background-color:Ivory;\">myproject</td><td  style=\"background-color:Ivory;\">My&nbspProject</td><td  style=\"background-color:Ivory;\">Initial&nbspdeveloper&nbspproject</td></tr></table>"
      ],
      "text/plain": [
       "<ipy_table.IpyTable at 0x7f9747f59da0>"
      ]
     },
     "execution_count": 7,
     "metadata": {},
     "output_type": "execute_result"
    }
   ],
   "source": [
    "headers = [('Project', 'Display Name', 'Description')]\n",
    "rows = [(project.metadata.name,\n",
    "         project.metadata.annotations['openshift.io/display-name'],\n",
    "         project.metadata.annotations['openshift.io/description']\n",
    "        ) for project in projects.items]\n",
    "table = headers + rows\n",
    "make_table(table)\n",
    "apply_theme('basic')"
   ]
  },
  {
   "cell_type": "markdown",
   "metadata": {},
   "source": [
    "# Listing All Pods"
   ]
  },
  {
   "cell_type": "code",
   "execution_count": 8,
   "metadata": {
    "collapsed": false
   },
   "outputs": [
    {
     "data": {
      "text/html": [
       "<table border=\"1\" cellpadding=\"3\" cellspacing=\"0\"  style=\"border:1px solid black;border-collapse:collapse;\"><tr><td  style=\"background-color:LightGray;\"><b>Project</b></td><td  style=\"background-color:LightGray;\"><b>Pod</b></td></tr><tr><td  style=\"background-color:Ivory;\">myproject</td><td  style=\"background-color:Ivory;\">powershift-7-i6zgo</td></tr></table>"
      ],
      "text/plain": [
       "<ipy_table.IpyTable at 0x7f9747e82710>"
      ]
     },
     "execution_count": 8,
     "metadata": {},
     "output_type": "execute_result"
    }
   ],
   "source": [
    "headers = [('Project', 'Pod')]\n",
    "rows = []\n",
    "for project in projects.items:\n",
    "    namespace = project.metadata.name\n",
    "    pods = client.api.v1.namespaces(namespace=namespace).pods.get()\n",
    "    for pod in pods.items:\n",
    "        rows.append((namespace, pod.metadata.name))\n",
    "table = headers + rows\n",
    "make_table(table)\n",
    "apply_theme('basic')"
   ]
  },
  {
   "cell_type": "markdown",
   "metadata": {
    "collapsed": true
   },
   "source": [
    "# Listing All Routes"
   ]
  },
  {
   "cell_type": "code",
   "execution_count": 9,
   "metadata": {
    "collapsed": false
   },
   "outputs": [
    {
     "data": {
      "text/html": [
       "<table border=\"1\" cellpadding=\"3\" cellspacing=\"0\"  style=\"border:1px solid black;border-collapse:collapse;\"><tr><td  style=\"background-color:LightGray;\"><b>Project</b></td><td  style=\"background-color:LightGray;\"><b>Route</b></td><td  style=\"background-color:LightGray;\"><b>URL</b></td></tr><tr><td  style=\"background-color:Ivory;\">myproject</td><td  style=\"background-color:Ivory;\">powershift</td><td  style=\"background-color:Ivory;\">http://powershift-myproject.127.0.0.1.xip.io/</td></tr></table>"
      ],
      "text/plain": [
       "<ipy_table.IpyTable at 0x7f975caa7978>"
      ]
     },
     "execution_count": 9,
     "metadata": {},
     "output_type": "execute_result"
    }
   ],
   "source": [
    "headers = [('Project', 'Route', 'URL')]\n",
    "rows = []\n",
    "for project in projects.items:\n",
    "    namespace = project.metadata.name\n",
    "    routes = client.oapi.v1.namespaces(namespace=namespace).routes.get()\n",
    "    for route in routes.items:\n",
    "        host = route.spec.host\n",
    "        path = route.spec.path or '/'\n",
    "        url = '%s://%s%s' % (route.spec.tls and 'https' or 'http', host, path)\n",
    "        rows.append((namespace, route.metadata.name, url))\n",
    "table = headers + rows\n",
    "make_table(table)\n",
    "apply_theme('basic')"
   ]
  },
  {
   "cell_type": "code",
   "execution_count": null,
   "metadata": {
    "collapsed": true
   },
   "outputs": [],
   "source": []
  }
 ],
 "metadata": {
  "kernelspec": {
   "display_name": "Python 3",
   "language": "python",
   "name": "python3"
  },
  "language_info": {
   "codemirror_mode": {
    "name": "ipython",
    "version": 3
   },
   "file_extension": ".py",
   "mimetype": "text/x-python",
   "name": "python",
   "nbconvert_exporter": "python",
   "pygments_lexer": "ipython3",
   "version": "3.5.2"
  }
 },
 "nbformat": 4,
 "nbformat_minor": 1
}
